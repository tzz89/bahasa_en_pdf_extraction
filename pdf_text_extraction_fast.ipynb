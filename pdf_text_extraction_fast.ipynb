{
 "cells": [
  {
   "cell_type": "code",
   "execution_count": 7,
   "metadata": {
    "id": "uFWqGHfOX7mB"
   },
   "outputs": [],
   "source": [
    "from pdf2image import convert_from_path\n",
    "from pdf2image.exceptions import (\n",
    "     PDFInfoNotInstalledError,\n",
    "     PDFPageCountError,\n",
    "     PDFSyntaxError\n",
    "     )\n",
    "import pdfplumber\n",
    "from PIL import Image, ImageDraw\n",
    "\n",
    "from collections import defaultdict, Counter\n",
    "import gc\n",
    "import decimal\n",
    "import pandas as pd\n",
    "from tqdm.notebook import tqdm\n",
    "import os\n",
    "import glob\n",
    "from math import ceil\n",
    "import numpy as np\n",
    "import re\n",
    "import random"
   ]
  },
  {
   "cell_type": "code",
   "execution_count": 8,
   "metadata": {
    "id": "zQsYa8Gi01kR"
   },
   "outputs": [],
   "source": [
    "def extract_parallel_text(source_pdf_path, config_dict):    \n",
    "    # create plumber_pdf_obj\n",
    "    pdf_file = pdfplumber.open(source_pdf_path)\n",
    "\n",
    "    # create folder for images with bbox\n",
    "    company_file_name = os.path.splitext(os.path.basename(source_pdf_path))[0]\n",
    "    image_dir = os.path.join(company_file_name,\"images\")\n",
    "    os.makedirs(image_dir, exist_ok=True) \n",
    "    #convert pdf to image\n",
    "    \n",
    "    \n",
    "    pages = []\n",
    "    left_lang = []\n",
    "    right_lang = []\n",
    "    \n",
    "    try:\n",
    "        len_pages = len(pdf_file.pages)\n",
    "    except Exception as e:\n",
    "        #no pages\n",
    "        print(e)\n",
    "        return None \n",
    "    \n",
    "    #for each page, image\n",
    "    for i in tqdm(range(len_pages)):\n",
    "#         print(f\"page {i}\")\n",
    "        image = convert_from_path(source_pdf_path, first_page=i+1, last_page=i+1)[0] \n",
    "        pdf_page = pdf_file.pages[i]\n",
    "        image_with_bbox, extracted_text_pairs = split_x_split_y(pdf_page, image, config_dict)\n",
    "        image_with_bbox.save(os.path.join(image_dir, f\"{company_file_name}_page{i}.jpg\"))\n",
    "\n",
    "        for extracted_text_pair in extracted_text_pairs:\n",
    "            pages.append(i)\n",
    "            left_lang.append(extracted_text_pair[0])\n",
    "            right_lang.append(extracted_text_pair[1])\n",
    "\n",
    "    df_fn_excel = os.path.join(company_file_name, f\"{company_file_name}_df.xlsx\")\n",
    "    df_fn_csv = os.path.join(company_file_name, f\"{company_file_name}_df.tsv\")\n",
    "    result_df = pd.DataFrame({\"page\":pages, \"left_lang\": left_lang, \"right_lang\":right_lang})\n",
    "    result_df['left_lang'] =result_df['left_lang'].astype(str).str.replace(\"\\n\", \" \").str.replace(\"\\t\", \" \").str.strip()\n",
    "    result_df['right_lang'] =result_df['right_lang'].astype(str).str.replace(\"\\n\", \" \").str.replace(\"\\t\", \" \").str.strip()\n",
    "    #\n",
    "    try:\n",
    "        result_df.to_excel(df_fn_excel)\n",
    "        result_df.to_csv(df_fn_csv, sep='\\t')\n",
    "        \n",
    "    except Exception as e:\n",
    "        print(e)\n",
    "        print(\"attempting to save in tsv\")\n",
    "        \n",
    "        result_df.to_csv(df_fn_csv, sep='\\t')\n",
    "        \n",
    "    return result_df\n"
   ]
  },
  {
   "cell_type": "markdown",
   "metadata": {
    "id": "TdrcL8VacE6E"
   },
   "source": [
    "## Segregation using X-Y cutting\n"
   ]
  },
  {
   "cell_type": "code",
   "execution_count": 9,
   "metadata": {
    "id": "Jkh73qG7hKtG"
   },
   "outputs": [],
   "source": [
    "def get_most_common_gap(gaps):\n",
    "    rounded_gaps = []\n",
    "    for gap in gaps:\n",
    "        rounded_gaps.append(ceil(gap['gap']/10) * 10)\n",
    "    \n",
    "    counter = Counter(rounded_gaps)\n",
    "\n",
    "#     print(f\"most_common_gap {counter.most_common(1)[0][0]}\")\n",
    "    return counter.most_common(1)[0][0]\n",
    "\n",
    "def im_draw_lines(left_right_bbox, image, pdf_page):\n",
    "    draw = ImageDraw.Draw(image)\n",
    "    image_array_height, image_array_width  = np.array(image).shape[0:2]\n",
    "\n",
    "    pdf_height =float(pdf_page.height)\n",
    "    pdf_width = float(pdf_page.width)\n",
    "    \n",
    "    color = random.choice(['red','green'])\n",
    "    \n",
    "    left_box_x0 = float(left_right_bbox[0]['left']) /pdf_width*image_array_width\n",
    "    left_box_y0 = float(left_right_bbox[0]['top'])/pdf_height*image_array_height-20\n",
    "    left_box_x1 = float(left_right_bbox[0]['right']) /pdf_width*image_array_width\n",
    "    left_box_y1 = float(left_right_bbox[0]['bottom'])/pdf_height*image_array_height\n",
    "    \n",
    "    right_box_x0 = float(left_right_bbox[1]['left'])/pdf_width*image_array_width\n",
    "    right_box_y0 = float(left_right_bbox[1]['top'])/pdf_height*image_array_height-20\n",
    "    right_box_x1 = float(left_right_bbox[1]['right'])/pdf_width*image_array_width\n",
    "    right_box_y1 = float(left_right_bbox[1]['bottom'])/pdf_height*image_array_height\n",
    "\n",
    "    \n",
    "    draw.rectangle([left_box_x0,left_box_y0,left_box_x1,left_box_y1], outline=color, width=4)\n",
    "    draw.rectangle([right_box_x0,right_box_y0,right_box_x1,right_box_y1], outline=color, width=4)\n",
    "    draw.line([left_box_x1,(left_box_y0+left_box_y1)/2, right_box_x0, (right_box_y0+right_box_y1)/2], width =3, fill=color,)\n",
    "\n",
    "#     height_top = height_top/pdf_height * image_array_height\n",
    "#     height_btm = height_btm/pdf_height * image_array_height\n",
    "#     y_split = y_split/pdf_width * image_array_width\n",
    "\n",
    "#     draw.line([0,height_top,image_array_width,height_top], width =3, fill=200)\n",
    "#     draw.line([0,height_btm,image_array_width,height_btm], width =3, fill=200)\n",
    "#     draw.line([y_split,height_top,y_split,height_btm], width =3, fill=200)\n",
    "\n",
    "    return image\n",
    "\n",
    "def is_finance_table(text):\n",
    "    pattern = r\"(\\s{3,}[)(\\d\\.\\,]+\\s{3,})|(\\([\\d\\.\\,\\s]{3,}\\))\"\n",
    "    if re.search(pattern, text) is not None:\n",
    "        return True\n",
    "    return False\n",
    "\n",
    "def is_majority_number(text):\n",
    "    digits = re.findall(r\"\\d\", text)\n",
    "    character = re.findall(r\"[a-zA-Z]\", text)\n",
    "    return len(digits) >= (len(character)*0.2)\n",
    "\n",
    "\n",
    "def get_x_tolerance(text_cropped, config_dict):\n",
    "    chars = text_cropped.chars\n",
    "    if len(chars) < 15:\n",
    "        return config_dict['max_extract_text_x_tolerance']\n",
    "    \n",
    "    gaps = [config_dict['max_extract_text_x_tolerance']]\n",
    "    for i in range(len(chars)-1):\n",
    "        gap = float(chars[i+1]['x0'])- float(chars[i]['x1'])\n",
    "        if gap >= config_dict['min_extract_text_x_tolerance']:\n",
    "            gaps.append(gap-0.1)\n",
    "    \n",
    "    return min(gaps)\n",
    "    \n",
    "    \n",
    "\n",
    "def get_text_bbox(pdf_page, config_dict):\n",
    "    words = pdf_page.extract_words(extra_attrs=[\"upright\"])\n",
    "    words = [word for word in words if word['upright']]\n",
    "    \n",
    "    top = words[0]['top']\n",
    "    bottom = words[0]['bottom']\n",
    "    left = words[0]['x0']\n",
    "    right = words[0]['x1']\n",
    "    \n",
    "    for word in words[1:]:\n",
    "        if word['top'] < top:\n",
    "            top = word['top']\n",
    "        if word['bottom'] > bottom:\n",
    "            bottom = word['bottom']\n",
    "        if word['x0'] < left:\n",
    "            left = word['x0']\n",
    "        if word['x1'] > right:\n",
    "            right = word['x1']\n",
    "    \n",
    "    text_cropped =  pdf_page.crop((left,\n",
    "                                  top,\n",
    "                                  right,\n",
    "                                  bottom)) \n",
    "    \n",
    "    calculated_x_tolerance = get_x_tolerance(text_cropped, config_dict)\n",
    "    bbox_text = text_cropped.extract_text(x_tolerance = calculated_x_tolerance)\n",
    "    \n",
    "    #sometimes the first char which is space will cause some words to be split eg. The to T he\n",
    "#     print([char['text'] for char in text_cropped.chars[:20]])\n",
    "    if text_cropped.chars[0]['text'] == \" \":\n",
    "        bbox_text = bbox_text.replace(\" \", \"\", 1) #only replace first\n",
    "\n",
    "    \n",
    "    return {\"top\":top, \"bottom\":bottom, \"left\":left, \"right\":right}, bbox_text\n",
    "    \n",
    "\n",
    "def split_x(pdf_page, config_dict):\n",
    "    page_height = pdf_page.height\n",
    "    page_height_scaled = round(page_height*100)\n",
    "#     print(f\"page_height {page_height_scaled}\")\n",
    "    height_array = np.zeros(page_height_scaled, dtype=np.int)\n",
    "\n",
    "    words = pdf_page.extract_words(extra_attrs=[\"upright\"])\n",
    "    words = [word for word in words if word['upright']]\n",
    "    \n",
    "    if len(words) == 0:\n",
    "        return []\n",
    "\n",
    "    #forming the 1-d array\n",
    "    for word in words:\n",
    "        start_index = round(word['top']*100)\n",
    "        end_index = round(word['bottom']*100)\n",
    "\n",
    "        height_array[start_index: end_index] = 1\n",
    "\n",
    "    gaps = []\n",
    "    counter =0 \n",
    "    start_of_gap_index = 0 \n",
    "\n",
    "    first_text_height = float(words[0]['top'])-0.5\n",
    "    bottom_of_page =  float(page_height)-10\n",
    "\n",
    "    for i in range(len(height_array)):\n",
    "        if height_array[i] == 0:\n",
    "            counter += 1\n",
    "        elif counter !=0:\n",
    "            gaps.append({\"start\":i-counter,\"end\":i,\"gap\":counter})\n",
    "            start_of_gap_index = i\n",
    "            counter = 0\n",
    "\n",
    "    spacing_gap = max(get_most_common_gap(gaps), float(config_dict['abs_min_vertical_spacing_gap'] * page_height_scaled))\n",
    "\n",
    "    spliting_heights = []\n",
    "\n",
    "    for i in range(1, len(gaps)):\n",
    "        \"ignore white space at the top and bottom\"\n",
    "        if gaps[i]['gap'] > (config_dict['min_vertical_spacing_gap']*spacing_gap):\n",
    "            spliting_heights.append((gaps[i][\"start\"] + gaps[i][\"end\"])/200.0 )\n",
    "\n",
    "    spliting_heights = [first_text_height] + spliting_heights + [bottom_of_page]\n",
    "    return spliting_heights\n",
    "\n",
    "\n",
    "def split_y(height_top, height_btm, pdf_page, config_dict):\n",
    "\n",
    "\n",
    "    page_width = pdf_page.width\n",
    "\n",
    "    min_gap = page_width * decimal.Decimal(config_dict['min_horizontal_spacing_gap']) * 100\n",
    "\n",
    "    min_x_gap_location = page_width * decimal.Decimal(config_dict['central_split_left_boundary']) * 100 \n",
    "    max_x_gap_location = page_width * decimal.Decimal(config_dict['central_split_right_boundary']) * 100 \n",
    "    mid_point = float(page_width) *0.5 * 100\n",
    "\n",
    "    cropped_page = pdf_page.crop((decimal.Decimal(\"0.0\"),\n",
    "                                  decimal.Decimal(height_top),\n",
    "                                  pdf_page.width,\n",
    "                                  decimal.Decimal(height_btm)))\n",
    "    \n",
    "    if cropped_page.extract_table() is not None:\n",
    "#         print(\"cropped pdf is a table!\")\n",
    "        return None, None\n",
    "    \n",
    "    #flatten into 1-array\n",
    "    page_width_scaled = round(page_width*100)\n",
    "    width_array = np.zeros(page_width_scaled, dtype=np.int)\n",
    "\n",
    "    words = cropped_page.extract_words(extra_attrs=[\"upright\"])\n",
    "    words = [word for word in words if word['upright']]\n",
    "    \n",
    "    #forming the 1-d array\n",
    "    for word in words:\n",
    "        start_index = round(word['x0']*100)\n",
    "        end_index = round(word['x1']*100)\n",
    "\n",
    "        width_array[start_index: end_index] = 1\n",
    "\n",
    "    gaps = []\n",
    "    counter =0 \n",
    "    start_of_gap_index = 0 \n",
    "\n",
    "    for i in range(len(width_array)):\n",
    "        if width_array[i] == 0:\n",
    "            counter += 1\n",
    "        elif counter !=0:\n",
    "            gaps.append({\"start\":i-counter,\"end\":i,\"gap\":counter})\n",
    "            start_of_gap_index = i\n",
    "            counter = 0\n",
    "    \n",
    "    gap_candidates = []\n",
    "\n",
    "    for gap in gaps:\n",
    "        if ((gap['gap']) > min_gap) and (gap['start'] > min_x_gap_location) and (gap['start'] < max_x_gap_location) and (gap['end'] > min_x_gap_location) and (gap['end'] < max_x_gap_location):\n",
    "            gap_candidates.append(gap)            \n",
    "            \n",
    "            \n",
    "    if len(gap_candidates) > 0 :  \n",
    "        best_gap = gap_candidates[0]\n",
    "        best_distance_to_centre = abs(mid_point - (best_gap['start'] + best_gap['end'])/2)\n",
    "\n",
    "        if len(gap_candidates) >1:\n",
    "            for gap_candidate in gap_candidates[1:]:\n",
    "                distance_to_centre = abs(mid_point-(gap_candidate[\"start\"] + gap_candidate[\"end\"])/2)\n",
    "                if  distance_to_centre < best_distance_to_centre:\n",
    "                    best_gap = gap_candidate\n",
    "                    best_distance_to_centre = distance_to_centre\n",
    "\n",
    "\n",
    "        spliting_x = (best_gap[\"start\"] + best_gap[\"end\"])/200.0    \n",
    "        left_crop =  pdf_page.crop((decimal.Decimal(\"0.0\"),\n",
    "                                    decimal.Decimal(height_top),\n",
    "                                    decimal.Decimal(spliting_x),\n",
    "                                    decimal.Decimal(height_btm)))\n",
    "\n",
    "        right_crop = pdf_page.crop((decimal.Decimal(spliting_x),\n",
    "                                    decimal.Decimal(height_top),\n",
    "                                    pdf_page.width,\n",
    "                                    decimal.Decimal(height_btm)))\n",
    "\n",
    "\n",
    "#         left_text =left_crop.extract_text()\n",
    "#         right_text = right_crop.extract_text()\n",
    "\n",
    "        minimum_text_span = page_width * decimal.Decimal(config_dict['minimum_textspan']) \n",
    "        left_text_bbox, left_text = get_text_bbox(left_crop, config_dict)\n",
    "        right_text_bbox, right_text = get_text_bbox(right_crop, config_dict)\n",
    "        left_text_span = left_text_bbox['right'] -left_text_bbox['left']\n",
    "        right_text_span = right_text_bbox['right'] -right_text_bbox['left']\n",
    "\n",
    "\n",
    "        if (is_finance_table(left_text) or \n",
    "            is_finance_table(right_text) or \n",
    "            is_majority_number(left_text) or \n",
    "            is_majority_number(right_text) or \n",
    "            (left_text_span < minimum_text_span) or\n",
    "            (right_text_span < minimum_text_span) or\n",
    "            (left_text_span < decimal.Decimal(0.5) * right_text_span) or\n",
    "            (left_text_span  > decimal.Decimal(2) * right_text_span) \n",
    "           ):\n",
    "\n",
    "\n",
    "            #                 print(\"ignoring finance table/ majority digits like bbox\")\n",
    "            return None, None\n",
    "\n",
    "        return (left_text_bbox,right_text_bbox) , (left_text, right_text)\n",
    "\n",
    "#.strip().strip(\"\\n\").strip().strip(\"\\n\")\n",
    "    return None, None\n",
    "\n",
    "\n",
    "\n",
    "def split_x_split_y(pdf_page, image, config_dict):\n",
    "    tmp_image = image.copy()\n",
    "    extracted_tables = pdf_page.extract_table()\n",
    "    extracted_texts = []\n",
    "\n",
    "    # if extracted_tables is not None:\n",
    "    #     print(\"Page contains tables, skipping\")\n",
    "    # else:\n",
    "    try:\n",
    "        spliting_heights = split_x(pdf_page, config_dict)\n",
    "\n",
    "        for i in range(len(spliting_heights)-1):\n",
    "            height_top  = spliting_heights[i]\n",
    "            height_btm  = spliting_heights[i+1]\n",
    "            left_right_bbox, extracted_text = split_y(height_top, height_btm, pdf_page, config_dict)\n",
    "            if left_right_bbox is not None:\n",
    "                tmp_image = im_draw_lines(left_right_bbox, tmp_image, pdf_page)\n",
    "                extracted_texts.append(extracted_text)\n",
    "    except Exception as e:\n",
    "        print(e)\n",
    "        print(\"if value error, Wrong orientation, skipping\")\n",
    "\n",
    "\n",
    "    return tmp_image, extracted_texts\n",
    "\n"
   ]
  },
  {
   "cell_type": "code",
   "execution_count": 10,
   "metadata": {
    "colab": {
     "base_uri": "https://localhost:8080/"
    },
    "id": "RMK6snOR01kQ",
    "outputId": "351265af-18a5-48ff-a4f5-bfce8f414650"
   },
   "outputs": [
    {
     "name": "stdout",
     "output_type": "stream",
     "text": [
      "['data\\\\annual_report\\\\bahasa_2\\\\ACES_Annual_Report 2019.pdf', 'data\\\\annual_report\\\\bahasa_2\\\\ACST_Annual_Report 2019.pdf', 'data\\\\annual_report\\\\bahasa_2\\\\ADES_Annual_Report 2019.pdf', 'data\\\\annual_report\\\\bahasa_2\\\\AKKU_Annual_Report 2019.pdf', 'data\\\\annual_report\\\\bahasa_2\\\\AKRA_Annual_Report_2019.pdf', 'data\\\\annual_report\\\\bahasa_2\\\\APIC_Annual_Report 2019.pdf', 'data\\\\annual_report\\\\bahasa_2\\\\ARKA_Annual_Report 2019.pdf', 'data\\\\annual_report\\\\bahasa_2\\\\ASDF_Annual_Report_2019.pdf', 'data\\\\annual_report\\\\bahasa_2\\\\ASDM_Annual_Report 2019.pdf', 'data\\\\annual_report\\\\bahasa_2\\\\ASII_Annual_Report_2019.pdf', 'data\\\\annual_report\\\\bahasa_2\\\\ASMI_Annual_Report 2019.pdf', 'data\\\\annual_report\\\\bahasa_2\\\\ASSA_Annual_Report 2019.pdf', 'data\\\\annual_report\\\\bahasa_2\\\\AUTO_Annual_Report 2019.pdf', 'data\\\\annual_report\\\\bahasa_2\\\\BABP_Annual_Report 2019_revisi.pdf', 'data\\\\annual_report\\\\bahasa_2\\\\BAJA_Annual_Report 2019.pdf', 'data\\\\annual_report\\\\bahasa_2\\\\BALI_Annual_Report_2019.pdf', 'data\\\\annual_report\\\\bahasa_2\\\\BAPA_Annual_Report 2019.pdf', 'data\\\\annual_report\\\\bahasa_2\\\\BAPI_Annual_Report 2019.pdf', 'data\\\\annual_report\\\\bahasa_2\\\\BATA_Annual_Report_2019.pdf', 'data\\\\annual_report\\\\bahasa_2\\\\BAYU_Annual_Report_2019.pdf', 'data\\\\annual_report\\\\bahasa_2\\\\BBHI_Annual_Report_2019.pdf', 'data\\\\annual_report\\\\bahasa_2\\\\BBIA_Annual_Report_2019_ENG.pdf', 'data\\\\annual_report\\\\bahasa_2\\\\BBLD_Annual_Report_2019.pdf', 'data\\\\annual_report\\\\bahasa_2\\\\BBMD_Annual Report_2019.pdf', 'data\\\\annual_report\\\\bahasa_2\\\\BBSS_Annual Report_2019.pdf', 'data\\\\annual_report\\\\bahasa_2\\\\BBYB_Annual_Report 2019.pdf', 'data\\\\annual_report\\\\bahasa_2\\\\BCAP_Annual_Report 2019.pdf', 'data\\\\annual_report\\\\bahasa_2\\\\BCIC_Annual_Report 2019.pdf', 'data\\\\annual_report\\\\bahasa_2\\\\BDKI_Annual_Report 2019.pdf', 'data\\\\annual_report\\\\bahasa_2\\\\BELL_Annual_Report 2019.pdf', 'data\\\\annual_report\\\\bahasa_2\\\\BESS_Annual_Report_2019.pdf']\n"
     ]
    }
   ],
   "source": [
    "source_pdf_dir = r\"data\\annual_report\\bahasa_2\"\n",
    "\n",
    "file_paths =glob.glob(os.path.join(source_pdf_dir,\"*.pdf\"))\n",
    "\n",
    "\n",
    "class CONFIG:\n",
    "    bahasa = dict(\n",
    "        min_vertical_spacing_gap = 1.75, # 1.75 times the natura spacing gap will result in a horizontal split\n",
    "        abs_min_vertical_spacing_gap = 0.003,\n",
    "        min_horizontal_spacing_gap = 0.02, # 2% of page width\n",
    "        central_split_left_boundary = 0.35, # the vertical split must locate on the right of 35% of the page width\n",
    "        central_split_right_boundary = 0.65, # the vertical split must locate on the right of 65% of the page width\n",
    "        minimum_textspan = 0.15, # 15% of page width\n",
    "        max_extract_text_x_tolerance = 3, #default is 3\n",
    "        min_extract_text_x_tolerance = 1.6\n",
    "    )\n",
    "        \n",
    "\n",
    "print(file_paths)    "
   ]
  },
  {
   "cell_type": "code",
   "execution_count": 11,
   "metadata": {
    "id": "3Rp9Ar5USV_d"
   },
   "outputs": [
    {
     "data": {
      "application/vnd.jupyter.widget-view+json": {
       "model_id": "8638306700e345dc9ad78dfa30331adc",
       "version_major": 2,
       "version_minor": 0
      },
      "text/plain": [
       "  0%|          | 0/93 [00:00<?, ?it/s]"
      ]
     },
     "metadata": {},
     "output_type": "display_data"
    },
    {
     "name": "stderr",
     "output_type": "stream",
     "text": [
      "C:\\Users\\teozz\\miniconda3\\envs\\pdf_extraction_fast\\lib\\site-packages\\ipykernel_launcher.py:112: DeprecationWarning: `np.int` is a deprecated alias for the builtin `int`. To silence this warning, use `int` by itself. Doing this will not modify any behavior and is safe. When replacing `np.int`, you may wish to use e.g. `np.int64` or `np.int32` to specify the precision. If you wish to review your current use, check the release note link for additional information.\n",
      "Deprecated in NumPy 1.20; for more details and guidance: https://numpy.org/devdocs/release/1.20.0-notes.html#deprecations\n",
      "C:\\Users\\teozz\\miniconda3\\envs\\pdf_extraction_fast\\lib\\site-packages\\ipykernel_launcher.py:177: DeprecationWarning: `np.int` is a deprecated alias for the builtin `int`. To silence this warning, use `int` by itself. Doing this will not modify any behavior and is safe. When replacing `np.int`, you may wish to use e.g. `np.int64` or `np.int32` to specify the precision. If you wish to review your current use, check the release note link for additional information.\n",
      "Deprecated in NumPy 1.20; for more details and guidance: https://numpy.org/devdocs/release/1.20.0-notes.html#deprecations\n"
     ]
    },
    {
     "data": {
      "application/vnd.jupyter.widget-view+json": {
       "model_id": "2c6084d403774da88c5e074c6df29633",
       "version_major": 2,
       "version_minor": 0
      },
      "text/plain": [
       "  0%|          | 0/280 [00:00<?, ?it/s]"
      ]
     },
     "metadata": {},
     "output_type": "display_data"
    },
    {
     "data": {
      "application/vnd.jupyter.widget-view+json": {
       "model_id": "0333b9b5c810454097058c3f21bbc7ea",
       "version_major": 2,
       "version_minor": 0
      },
      "text/plain": [
       "  0%|          | 0/154 [00:00<?, ?it/s]"
      ]
     },
     "metadata": {},
     "output_type": "display_data"
    },
    {
     "data": {
      "application/vnd.jupyter.widget-view+json": {
       "model_id": "4e529d9437334cb9a8de9d102843d004",
       "version_major": 2,
       "version_minor": 0
      },
      "text/plain": [
       "  0%|          | 0/163 [00:00<?, ?it/s]"
      ]
     },
     "metadata": {},
     "output_type": "display_data"
    },
    {
     "data": {
      "application/vnd.jupyter.widget-view+json": {
       "model_id": "76a84bf41beb481f8959c90cec2887df",
       "version_major": 2,
       "version_minor": 0
      },
      "text/plain": [
       "  0%|          | 0/564 [00:00<?, ?it/s]"
      ]
     },
     "metadata": {},
     "output_type": "display_data"
    },
    {
     "data": {
      "application/vnd.jupyter.widget-view+json": {
       "model_id": "cb00e0bd69e142018621061495ead516",
       "version_major": 2,
       "version_minor": 0
      },
      "text/plain": [
       "  0%|          | 0/163 [00:00<?, ?it/s]"
      ]
     },
     "metadata": {},
     "output_type": "display_data"
    },
    {
     "name": "stdout",
     "output_type": "stream",
     "text": [
      "Bounding box (Decimal('0.0'), Decimal('60.14099999999999823785401531495153903961181640625'), Decimal('595.320'), Decimal('101.7450000000000045474735088646411895751953125')) is not fully within parent page bounding box (Decimal('-11.225'), Decimal('11.282'), Decimal('584.095'), Decimal('853.202'))\n",
      "if value error, Wrong orientation, skipping\n",
      "Bounding box (Decimal('0.0'), Decimal('60.14099999999999823785401531495153903961181640625'), Decimal('595.320'), Decimal('101.7450000000000045474735088646411895751953125')) is not fully within parent page bounding box (Decimal('-11.225'), Decimal('11.282'), Decimal('584.095'), Decimal('853.202'))\n",
      "if value error, Wrong orientation, skipping\n",
      "Bounding box (Decimal('0.0'), Decimal('60.14099999999999823785401531495153903961181640625'), Decimal('595.320'), Decimal('102.0450000000000017053025658242404460906982421875')) is not fully within parent page bounding box (Decimal('-11.225'), Decimal('11.282'), Decimal('584.095'), Decimal('853.202'))\n",
      "if value error, Wrong orientation, skipping\n",
      "Bounding box (Decimal('0.0'), Decimal('60.14099999999999823785401531495153903961181640625'), Decimal('595.320'), Decimal('102.0450000000000017053025658242404460906982421875')) is not fully within parent page bounding box (Decimal('-11.225'), Decimal('11.282'), Decimal('584.095'), Decimal('853.202'))\n",
      "if value error, Wrong orientation, skipping\n",
      "Bounding box (Decimal('0.0'), Decimal('41.36099999999999710098563809879124164581298828125'), Decimal('841.920'), Decimal('419.18000000000000682121026329696178436279296875')) is not fully within parent page bounding box (Decimal('-11.282'), Decimal('7.994'), Decimal('830.638'), Decimal('603.314'))\n",
      "if value error, Wrong orientation, skipping\n",
      "Bounding box (Decimal('0.0'), Decimal('60.14099999999999823785401531495153903961181640625'), Decimal('595.320'), Decimal('102.0450000000000017053025658242404460906982421875')) is not fully within parent page bounding box (Decimal('-11.225'), Decimal('11.282'), Decimal('584.095'), Decimal('853.202'))\n",
      "if value error, Wrong orientation, skipping\n",
      "Bounding box (Decimal('0.0'), Decimal('57.50099999999999766941982670687139034271240234375'), Decimal('595.320'), Decimal('99.0450000000000017053025658242404460906982421875')) is not fully within parent page bounding box (Decimal('-11.225'), Decimal('11.282'), Decimal('584.095'), Decimal('853.202'))\n",
      "if value error, Wrong orientation, skipping\n",
      "Bounding box (Decimal('0.0'), Decimal('57.50099999999999766941982670687139034271240234375'), Decimal('595.320'), Decimal('99.0450000000000017053025658242404460906982421875')) is not fully within parent page bounding box (Decimal('-11.225'), Decimal('11.282'), Decimal('584.095'), Decimal('853.202'))\n",
      "if value error, Wrong orientation, skipping\n",
      "Bounding box (Decimal('0.0'), Decimal('57.50099999999999766941982670687139034271240234375'), Decimal('595.320'), Decimal('99.0450000000000017053025658242404460906982421875')) is not fully within parent page bounding box (Decimal('-11.225'), Decimal('11.282'), Decimal('584.095'), Decimal('853.202'))\n",
      "if value error, Wrong orientation, skipping\n",
      "Bounding box (Decimal('0.0'), Decimal('57.50099999999999766941982670687139034271240234375'), Decimal('595.320'), Decimal('99.0450000000000017053025658242404460906982421875')) is not fully within parent page bounding box (Decimal('-11.225'), Decimal('11.282'), Decimal('584.095'), Decimal('853.202'))\n",
      "if value error, Wrong orientation, skipping\n",
      "Bounding box (Decimal('0.0'), Decimal('57.50099999999999766941982670687139034271240234375'), Decimal('595.320'), Decimal('99.0450000000000017053025658242404460906982421875')) is not fully within parent page bounding box (Decimal('-11.225'), Decimal('11.282'), Decimal('584.095'), Decimal('853.202'))\n",
      "if value error, Wrong orientation, skipping\n",
      "Bounding box (Decimal('0.0'), Decimal('57.50099999999999766941982670687139034271240234375'), Decimal('595.320'), Decimal('99.0450000000000017053025658242404460906982421875')) is not fully within parent page bounding box (Decimal('-11.225'), Decimal('11.282'), Decimal('584.095'), Decimal('853.202'))\n",
      "if value error, Wrong orientation, skipping\n",
      "Bounding box (Decimal('0.0'), Decimal('57.50099999999999766941982670687139034271240234375'), Decimal('595.320'), Decimal('99.0450000000000017053025658242404460906982421875')) is not fully within parent page bounding box (Decimal('-11.225'), Decimal('11.282'), Decimal('584.095'), Decimal('853.202'))\n",
      "if value error, Wrong orientation, skipping\n",
      "Bounding box (Decimal('0.0'), Decimal('57.50099999999999766941982670687139034271240234375'), Decimal('595.320'), Decimal('99.0450000000000017053025658242404460906982421875')) is not fully within parent page bounding box (Decimal('-11.225'), Decimal('11.282'), Decimal('584.095'), Decimal('853.202'))\n",
      "if value error, Wrong orientation, skipping\n",
      "Bounding box (Decimal('0.0'), Decimal('57.50099999999999766941982670687139034271240234375'), Decimal('595.320'), Decimal('99.0450000000000017053025658242404460906982421875')) is not fully within parent page bounding box (Decimal('-11.225'), Decimal('11.282'), Decimal('584.095'), Decimal('853.202'))\n",
      "if value error, Wrong orientation, skipping\n",
      "Bounding box (Decimal('0.0'), Decimal('57.50099999999999766941982670687139034271240234375'), Decimal('595.320'), Decimal('99.0450000000000017053025658242404460906982421875')) is not fully within parent page bounding box (Decimal('-11.225'), Decimal('11.282'), Decimal('584.095'), Decimal('853.202'))\n",
      "if value error, Wrong orientation, skipping\n",
      "Bounding box (Decimal('0.0'), Decimal('57.50099999999999766941982670687139034271240234375'), Decimal('595.320'), Decimal('99.0450000000000017053025658242404460906982421875')) is not fully within parent page bounding box (Decimal('-11.225'), Decimal('11.282'), Decimal('584.095'), Decimal('853.202'))\n",
      "if value error, Wrong orientation, skipping\n",
      "Bounding box (Decimal('0.0'), Decimal('57.50099999999999766941982670687139034271240234375'), Decimal('595.320'), Decimal('99.0450000000000017053025658242404460906982421875')) is not fully within parent page bounding box (Decimal('-11.225'), Decimal('11.282'), Decimal('584.095'), Decimal('853.202'))\n",
      "if value error, Wrong orientation, skipping\n",
      "Bounding box (Decimal('0.0'), Decimal('57.50099999999999766941982670687139034271240234375'), Decimal('595.320'), Decimal('99.0450000000000017053025658242404460906982421875')) is not fully within parent page bounding box (Decimal('-11.225'), Decimal('11.282'), Decimal('584.095'), Decimal('853.202'))\n",
      "if value error, Wrong orientation, skipping\n",
      "Bounding box (Decimal('0.0'), Decimal('57.50099999999999766941982670687139034271240234375'), Decimal('595.320'), Decimal('99.0450000000000017053025658242404460906982421875')) is not fully within parent page bounding box (Decimal('-11.225'), Decimal('11.282'), Decimal('584.095'), Decimal('853.202'))\n",
      "if value error, Wrong orientation, skipping\n",
      "Bounding box (Decimal('0.0'), Decimal('57.50099999999999766941982670687139034271240234375'), Decimal('595.320'), Decimal('99.0450000000000017053025658242404460906982421875')) is not fully within parent page bounding box (Decimal('-11.225'), Decimal('11.282'), Decimal('584.095'), Decimal('853.202'))\n",
      "if value error, Wrong orientation, skipping\n",
      "Bounding box (Decimal('0.0'), Decimal('57.50099999999999766941982670687139034271240234375'), Decimal('595.320'), Decimal('99.0450000000000017053025658242404460906982421875')) is not fully within parent page bounding box (Decimal('-11.225'), Decimal('11.282'), Decimal('584.095'), Decimal('853.202'))\n",
      "if value error, Wrong orientation, skipping\n",
      "Bounding box (Decimal('0.0'), Decimal('57.50099999999999766941982670687139034271240234375'), Decimal('595.320'), Decimal('99.0450000000000017053025658242404460906982421875')) is not fully within parent page bounding box (Decimal('-11.225'), Decimal('11.282'), Decimal('584.095'), Decimal('853.202'))\n",
      "if value error, Wrong orientation, skipping\n",
      "Bounding box (Decimal('0.0'), Decimal('57.50099999999999766941982670687139034271240234375'), Decimal('595.320'), Decimal('99.0450000000000017053025658242404460906982421875')) is not fully within parent page bounding box (Decimal('-11.225'), Decimal('11.282'), Decimal('584.095'), Decimal('853.202'))\n",
      "if value error, Wrong orientation, skipping\n"
     ]
    },
    {
     "name": "stdout",
     "output_type": "stream",
     "text": [
      "Bounding box (Decimal('0.0'), Decimal('57.50099999999999766941982670687139034271240234375'), Decimal('595.320'), Decimal('99.0450000000000017053025658242404460906982421875')) is not fully within parent page bounding box (Decimal('-11.225'), Decimal('11.282'), Decimal('584.095'), Decimal('853.202'))\n",
      "if value error, Wrong orientation, skipping\n",
      "Bounding box (Decimal('0.0'), Decimal('57.50099999999999766941982670687139034271240234375'), Decimal('595.320'), Decimal('99.0450000000000017053025658242404460906982421875')) is not fully within parent page bounding box (Decimal('-11.225'), Decimal('11.282'), Decimal('584.095'), Decimal('853.202'))\n",
      "if value error, Wrong orientation, skipping\n",
      "Bounding box (Decimal('0.0'), Decimal('57.50099999999999766941982670687139034271240234375'), Decimal('595.320'), Decimal('99.0450000000000017053025658242404460906982421875')) is not fully within parent page bounding box (Decimal('-11.225'), Decimal('11.282'), Decimal('584.095'), Decimal('853.202'))\n",
      "if value error, Wrong orientation, skipping\n",
      "Bounding box (Decimal('0.0'), Decimal('57.50099999999999766941982670687139034271240234375'), Decimal('595.320'), Decimal('99.0450000000000017053025658242404460906982421875')) is not fully within parent page bounding box (Decimal('-11.225'), Decimal('11.282'), Decimal('584.095'), Decimal('853.202'))\n",
      "if value error, Wrong orientation, skipping\n",
      "Bounding box (Decimal('0.0'), Decimal('57.50099999999999766941982670687139034271240234375'), Decimal('595.320'), Decimal('99.0450000000000017053025658242404460906982421875')) is not fully within parent page bounding box (Decimal('-11.225'), Decimal('11.282'), Decimal('584.095'), Decimal('853.202'))\n",
      "if value error, Wrong orientation, skipping\n",
      "Bounding box (Decimal('0.0'), Decimal('57.50099999999999766941982670687139034271240234375'), Decimal('595.320'), Decimal('99.0450000000000017053025658242404460906982421875')) is not fully within parent page bounding box (Decimal('-11.225'), Decimal('11.282'), Decimal('584.095'), Decimal('853.202'))\n",
      "if value error, Wrong orientation, skipping\n",
      "Bounding box (Decimal('0.0'), Decimal('57.50099999999999766941982670687139034271240234375'), Decimal('595.320'), Decimal('99.0450000000000017053025658242404460906982421875')) is not fully within parent page bounding box (Decimal('-11.225'), Decimal('11.282'), Decimal('584.095'), Decimal('853.202'))\n",
      "if value error, Wrong orientation, skipping\n",
      "Bounding box (Decimal('0.0'), Decimal('57.50099999999999766941982670687139034271240234375'), Decimal('595.320'), Decimal('99.0450000000000017053025658242404460906982421875')) is not fully within parent page bounding box (Decimal('-11.225'), Decimal('11.282'), Decimal('584.095'), Decimal('853.202'))\n",
      "if value error, Wrong orientation, skipping\n",
      "Bounding box (Decimal('0.0'), Decimal('57.50099999999999766941982670687139034271240234375'), Decimal('595.320'), Decimal('99.0450000000000017053025658242404460906982421875')) is not fully within parent page bounding box (Decimal('-11.225'), Decimal('11.282'), Decimal('584.095'), Decimal('853.202'))\n",
      "if value error, Wrong orientation, skipping\n",
      "Bounding box (Decimal('0.0'), Decimal('57.50099999999999766941982670687139034271240234375'), Decimal('595.320'), Decimal('99.0450000000000017053025658242404460906982421875')) is not fully within parent page bounding box (Decimal('-11.225'), Decimal('11.282'), Decimal('584.095'), Decimal('853.202'))\n",
      "if value error, Wrong orientation, skipping\n",
      "Bounding box (Decimal('0.0'), Decimal('57.50099999999999766941982670687139034271240234375'), Decimal('595.320'), Decimal('99.0450000000000017053025658242404460906982421875')) is not fully within parent page bounding box (Decimal('-11.225'), Decimal('11.282'), Decimal('584.095'), Decimal('853.202'))\n",
      "if value error, Wrong orientation, skipping\n",
      "Bounding box (Decimal('0.0'), Decimal('57.50099999999999766941982670687139034271240234375'), Decimal('595.320'), Decimal('99.0450000000000017053025658242404460906982421875')) is not fully within parent page bounding box (Decimal('-11.225'), Decimal('11.282'), Decimal('584.095'), Decimal('853.202'))\n",
      "if value error, Wrong orientation, skipping\n",
      "Bounding box (Decimal('0.0'), Decimal('57.50099999999999766941982670687139034271240234375'), Decimal('595.320'), Decimal('99.0450000000000017053025658242404460906982421875')) is not fully within parent page bounding box (Decimal('-11.225'), Decimal('11.282'), Decimal('584.095'), Decimal('853.202'))\n",
      "if value error, Wrong orientation, skipping\n",
      "Bounding box (Decimal('0.0'), Decimal('57.50099999999999766941982670687139034271240234375'), Decimal('595.320'), Decimal('720.5249999999999772626324556767940521240234375')) is not fully within parent page bounding box (Decimal('-11.225'), Decimal('11.282'), Decimal('584.095'), Decimal('853.202'))\n",
      "if value error, Wrong orientation, skipping\n",
      "Bounding box (Decimal('0.0'), Decimal('57.26100000000000278532752417959272861480712890625'), Decimal('595.320'), Decimal('99.465000000000003410605131648480892181396484375')) is not fully within parent page bounding box (Decimal('-11.225'), Decimal('11.282'), Decimal('584.095'), Decimal('853.202'))\n",
      "if value error, Wrong orientation, skipping\n",
      "Bounding box (Decimal('0.0'), Decimal('57.50099999999999766941982670687139034271240234375'), Decimal('595.320'), Decimal('99.0450000000000017053025658242404460906982421875')) is not fully within parent page bounding box (Decimal('-11.225'), Decimal('11.282'), Decimal('584.095'), Decimal('853.202'))\n",
      "if value error, Wrong orientation, skipping\n",
      "Bounding box (Decimal('0.0'), Decimal('57.50099999999999766941982670687139034271240234375'), Decimal('595.320'), Decimal('99.0450000000000017053025658242404460906982421875')) is not fully within parent page bounding box (Decimal('-11.225'), Decimal('11.282'), Decimal('584.095'), Decimal('853.202'))\n",
      "if value error, Wrong orientation, skipping\n",
      "Bounding box (Decimal('0.0'), Decimal('57.50099999999999766941982670687139034271240234375'), Decimal('595.320'), Decimal('99.0450000000000017053025658242404460906982421875')) is not fully within parent page bounding box (Decimal('-11.225'), Decimal('11.282'), Decimal('584.095'), Decimal('853.202'))\n",
      "if value error, Wrong orientation, skipping\n",
      "Bounding box (Decimal('0.0'), Decimal('57.50099999999999766941982670687139034271240234375'), Decimal('595.320'), Decimal('99.0450000000000017053025658242404460906982421875')) is not fully within parent page bounding box (Decimal('-11.225'), Decimal('11.282'), Decimal('584.095'), Decimal('853.202'))\n",
      "if value error, Wrong orientation, skipping\n",
      "Bounding box (Decimal('0.0'), Decimal('57.50099999999999766941982670687139034271240234375'), Decimal('595.320'), Decimal('99.0450000000000017053025658242404460906982421875')) is not fully within parent page bounding box (Decimal('-11.225'), Decimal('11.282'), Decimal('584.095'), Decimal('853.202'))\n",
      "if value error, Wrong orientation, skipping\n",
      "Bounding box (Decimal('0.0'), Decimal('57.50099999999999766941982670687139034271240234375'), Decimal('595.320'), Decimal('99.0450000000000017053025658242404460906982421875')) is not fully within parent page bounding box (Decimal('-11.225'), Decimal('11.282'), Decimal('584.095'), Decimal('853.202'))\n",
      "if value error, Wrong orientation, skipping\n",
      "Bounding box (Decimal('0.0'), Decimal('57.50099999999999766941982670687139034271240234375'), Decimal('595.320'), Decimal('99.0450000000000017053025658242404460906982421875')) is not fully within parent page bounding box (Decimal('-11.225'), Decimal('11.282'), Decimal('584.095'), Decimal('853.202'))\n",
      "if value error, Wrong orientation, skipping\n",
      "Bounding box (Decimal('0.0'), Decimal('57.50099999999999766941982670687139034271240234375'), Decimal('595.320'), Decimal('99.0450000000000017053025658242404460906982421875')) is not fully within parent page bounding box (Decimal('-11.225'), Decimal('11.282'), Decimal('584.095'), Decimal('853.202'))\n",
      "if value error, Wrong orientation, skipping\n",
      "Bounding box (Decimal('0.0'), Decimal('57.50099999999999766941982670687139034271240234375'), Decimal('595.320'), Decimal('99.0450000000000017053025658242404460906982421875')) is not fully within parent page bounding box (Decimal('-11.225'), Decimal('11.282'), Decimal('584.095'), Decimal('853.202'))\n",
      "if value error, Wrong orientation, skipping\n"
     ]
    },
    {
     "name": "stdout",
     "output_type": "stream",
     "text": [
      "Bounding box (Decimal('0.0'), Decimal('57.50099999999999766941982670687139034271240234375'), Decimal('595.320'), Decimal('99.0450000000000017053025658242404460906982421875')) is not fully within parent page bounding box (Decimal('-11.225'), Decimal('11.282'), Decimal('584.095'), Decimal('853.202'))\n",
      "if value error, Wrong orientation, skipping\n",
      "Bounding box (Decimal('0.0'), Decimal('57.50099999999999766941982670687139034271240234375'), Decimal('595.320'), Decimal('99.0450000000000017053025658242404460906982421875')) is not fully within parent page bounding box (Decimal('-11.225'), Decimal('11.282'), Decimal('584.095'), Decimal('853.202'))\n",
      "if value error, Wrong orientation, skipping\n",
      "Bounding box (Decimal('0.0'), Decimal('56.88600000000000278532752417959272861480712890625'), Decimal('595.320'), Decimal('95.7999999999999971578290569595992565155029296875')) is not fully within parent page bounding box (Decimal('-11.225'), Decimal('11.282'), Decimal('584.095'), Decimal('853.202'))\n",
      "if value error, Wrong orientation, skipping\n",
      "Bounding box (Decimal('0.0'), Decimal('56.88600000000000278532752417959272861480712890625'), Decimal('595.320'), Decimal('95.7999999999999971578290569595992565155029296875')) is not fully within parent page bounding box (Decimal('-11.225'), Decimal('11.282'), Decimal('584.095'), Decimal('853.202'))\n",
      "if value error, Wrong orientation, skipping\n",
      "Bounding box (Decimal('0.0'), Decimal('57.50099999999999766941982670687139034271240234375'), Decimal('595.320'), Decimal('99.0450000000000017053025658242404460906982421875')) is not fully within parent page bounding box (Decimal('-11.225'), Decimal('11.282'), Decimal('584.095'), Decimal('853.202'))\n",
      "if value error, Wrong orientation, skipping\n",
      "Bounding box (Decimal('0.0'), Decimal('57.50099999999999766941982670687139034271240234375'), Decimal('595.320'), Decimal('99.0450000000000017053025658242404460906982421875')) is not fully within parent page bounding box (Decimal('-11.225'), Decimal('11.282'), Decimal('584.095'), Decimal('853.202'))\n",
      "if value error, Wrong orientation, skipping\n",
      "Bounding box (Decimal('0.0'), Decimal('39.86399999999999721467247582040727138519287109375'), Decimal('595.320'), Decimal('57.03999999999999914734871708787977695465087890625')) is not fully within parent page bounding box (Decimal('-11.225'), Decimal('11.282'), Decimal('584.095'), Decimal('853.202'))\n",
      "if value error, Wrong orientation, skipping\n",
      "Bounding box (Decimal('0.0'), Decimal('52.22399999999999664623828721232712268829345703125'), Decimal('595.320'), Decimal('76.18500000000000227373675443232059478759765625')) is not fully within parent page bounding box (Decimal('-11.225'), Decimal('11.282'), Decimal('584.095'), Decimal('853.202'))\n",
      "if value error, Wrong orientation, skipping\n",
      "Bounding box (Decimal('0.0'), Decimal('42.50099999999999766941982670687139034271240234375'), Decimal('841.920'), Decimal('61.64500000000000312638803734444081783294677734375')) is not fully within parent page bounding box (Decimal('-11.282'), Decimal('7.994'), Decimal('830.638'), Decimal('603.314'))\n",
      "if value error, Wrong orientation, skipping\n",
      "Bounding box (Decimal('0.0'), Decimal('52.22399999999999664623828721232712268829345703125'), Decimal('595.320'), Decimal('70')) is not fully within parent page bounding box (Decimal('-11.225'), Decimal('11.282'), Decimal('584.095'), Decimal('853.202'))\n",
      "if value error, Wrong orientation, skipping\n",
      "Bounding box (Decimal('0.0'), Decimal('51.62400000000000233058017329312860965728759765625'), Decimal('595.320'), Decimal('68.7999999999999971578290569595992565155029296875')) is not fully within parent page bounding box (Decimal('-11.225'), Decimal('11.282'), Decimal('584.095'), Decimal('853.202'))\n",
      "if value error, Wrong orientation, skipping\n"
     ]
    },
    {
     "data": {
      "application/vnd.jupyter.widget-view+json": {
       "model_id": "b55dcb8fb97b458da586dffa55b82236",
       "version_major": 2,
       "version_minor": 0
      },
      "text/plain": [
       "  0%|          | 0/182 [00:00<?, ?it/s]"
      ]
     },
     "metadata": {},
     "output_type": "display_data"
    },
    {
     "data": {
      "application/vnd.jupyter.widget-view+json": {
       "model_id": "7dc73e29644f42ec9629c7ede8c41560",
       "version_major": 2,
       "version_minor": 0
      },
      "text/plain": [
       "  0%|          | 0/417 [00:00<?, ?it/s]"
      ]
     },
     "metadata": {},
     "output_type": "display_data"
    },
    {
     "data": {
      "application/vnd.jupyter.widget-view+json": {
       "model_id": "842f0607c1a0427885f9c2adae4aaef3",
       "version_major": 2,
       "version_minor": 0
      },
      "text/plain": [
       "  0%|          | 0/363 [00:00<?, ?it/s]"
      ]
     },
     "metadata": {},
     "output_type": "display_data"
    },
    {
     "data": {
      "application/vnd.jupyter.widget-view+json": {
       "model_id": "5eb9d3b451dd4b94a168c7b4d2f255a6",
       "version_major": 2,
       "version_minor": 0
      },
      "text/plain": [
       "  0%|          | 0/508 [00:00<?, ?it/s]"
      ]
     },
     "metadata": {},
     "output_type": "display_data"
    },
    {
     "data": {
      "application/vnd.jupyter.widget-view+json": {
       "model_id": "cd4f81298ccc4e94ad99d12fa12efe74",
       "version_major": 2,
       "version_minor": 0
      },
      "text/plain": [
       "  0%|          | 0/276 [00:00<?, ?it/s]"
      ]
     },
     "metadata": {},
     "output_type": "display_data"
    },
    {
     "data": {
      "application/vnd.jupyter.widget-view+json": {
       "model_id": "4db963731aed40e58ee1da8e00e3d22b",
       "version_major": 2,
       "version_minor": 0
      },
      "text/plain": [
       "  0%|          | 0/426 [00:00<?, ?it/s]"
      ]
     },
     "metadata": {},
     "output_type": "display_data"
    },
    {
     "data": {
      "application/vnd.jupyter.widget-view+json": {
       "model_id": "8caa22051737461998a97f4b4c7c918b",
       "version_major": 2,
       "version_minor": 0
      },
      "text/plain": [
       "  0%|          | 0/332 [00:00<?, ?it/s]"
      ]
     },
     "metadata": {},
     "output_type": "display_data"
    },
    {
     "data": {
      "application/vnd.jupyter.widget-view+json": {
       "model_id": "dd495b4f116047689739843a88a5a8d0",
       "version_major": 2,
       "version_minor": 0
      },
      "text/plain": [
       "  0%|          | 0/370 [00:00<?, ?it/s]"
      ]
     },
     "metadata": {},
     "output_type": "display_data"
    },
    {
     "data": {
      "application/vnd.jupyter.widget-view+json": {
       "model_id": "f5c174b2fe5648068ec0e588e52c237b",
       "version_major": 2,
       "version_minor": 0
      },
      "text/plain": [
       "  0%|          | 0/150 [00:00<?, ?it/s]"
      ]
     },
     "metadata": {},
     "output_type": "display_data"
    },
    {
     "data": {
      "application/vnd.jupyter.widget-view+json": {
       "model_id": "9998e8342b8741e6bf9297f25458b133",
       "version_major": 2,
       "version_minor": 0
      },
      "text/plain": [
       "  0%|          | 0/251 [00:00<?, ?it/s]"
      ]
     },
     "metadata": {},
     "output_type": "display_data"
    },
    {
     "data": {
      "application/vnd.jupyter.widget-view+json": {
       "model_id": "065641940a6b44caa70a799cc7c5a83d",
       "version_major": 2,
       "version_minor": 0
      },
      "text/plain": [
       "  0%|          | 0/123 [00:00<?, ?it/s]"
      ]
     },
     "metadata": {},
     "output_type": "display_data"
    },
    {
     "data": {
      "application/vnd.jupyter.widget-view+json": {
       "model_id": "db5d425a6ee8479e8eab77feba94c365",
       "version_major": 2,
       "version_minor": 0
      },
      "text/plain": [
       "  0%|          | 0/122 [00:00<?, ?it/s]"
      ]
     },
     "metadata": {},
     "output_type": "display_data"
    },
    {
     "data": {
      "application/vnd.jupyter.widget-view+json": {
       "model_id": "339ad313c83347078bfc1339a010ae35",
       "version_major": 2,
       "version_minor": 0
      },
      "text/plain": [
       "  0%|          | 0/165 [00:00<?, ?it/s]"
      ]
     },
     "metadata": {},
     "output_type": "display_data"
    },
    {
     "data": {
      "application/vnd.jupyter.widget-view+json": {
       "model_id": "e3fea53c746044e1b7e1bfcfa4383f80",
       "version_major": 2,
       "version_minor": 0
      },
      "text/plain": [
       "  0%|          | 0/148 [00:00<?, ?it/s]"
      ]
     },
     "metadata": {},
     "output_type": "display_data"
    },
    {
     "data": {
      "application/vnd.jupyter.widget-view+json": {
       "model_id": "b73e997fd72a4277b0a54600d3e41aae",
       "version_major": 2,
       "version_minor": 0
      },
      "text/plain": [
       "  0%|          | 0/235 [00:00<?, ?it/s]"
      ]
     },
     "metadata": {},
     "output_type": "display_data"
    },
    {
     "name": "stdout",
     "output_type": "stream",
     "text": [
      "Bounding box (Decimal('0.0'), Decimal('-3.428999999999999825917029738775454461574554443359375'), Decimal('595.260'), Decimal('59.30499999999999971578290569595992565155029296875')) is not fully within parent page bounding box (Decimal('0.000'), Decimal('0.000'), Decimal('595.260'), Decimal('841.860'))\n",
      "if value error, Wrong orientation, skipping\n",
      "Bounding box (Decimal('0.0'), Decimal('-3.428999999999999825917029738775454461574554443359375'), Decimal('595.260'), Decimal('238.854999999999989768184605054557323455810546875')) is not fully within parent page bounding box (Decimal('0.000'), Decimal('0.000'), Decimal('595.260'), Decimal('841.860'))\n",
      "if value error, Wrong orientation, skipping\n",
      "Bounding box (Decimal('0.0'), Decimal('-3.80900000000000016342482922482304275035858154296875'), Decimal('595.260'), Decimal('60.19500000000000028421709430404007434844970703125')) is not fully within parent page bounding box (Decimal('0.000'), Decimal('0.000'), Decimal('595.260'), Decimal('841.860'))\n",
      "if value error, Wrong orientation, skipping\n",
      "Bounding box (Decimal('0.0'), Decimal('-3.80900000000000016342482922482304275035858154296875'), Decimal('595.260'), Decimal('61.35499999999999687361196265555918216705322265625')) is not fully within parent page bounding box (Decimal('0.000'), Decimal('0.000'), Decimal('595.260'), Decimal('841.860'))\n",
      "if value error, Wrong orientation, skipping\n",
      "Bounding box (Decimal('0.0'), Decimal('-3.7019999999999999573674358543939888477325439453125'), Decimal('595.260'), Decimal('62.7000000000000028421709430404007434844970703125')) is not fully within parent page bounding box (Decimal('0.000'), Decimal('0.000'), Decimal('595.260'), Decimal('841.860'))\n",
      "if value error, Wrong orientation, skipping\n",
      "Bounding box (Decimal('0.0'), Decimal('-3.80900000000000016342482922482304275035858154296875'), Decimal('595.260'), Decimal('61.35499999999999687361196265555918216705322265625')) is not fully within parent page bounding box (Decimal('0.000'), Decimal('0.000'), Decimal('595.260'), Decimal('841.860'))\n",
      "if value error, Wrong orientation, skipping\n",
      "Bounding box (Decimal('0.0'), Decimal('-3.80900000000000016342482922482304275035858154296875'), Decimal('595.260'), Decimal('61.35499999999999687361196265555918216705322265625')) is not fully within parent page bounding box (Decimal('0.000'), Decimal('0.000'), Decimal('595.260'), Decimal('841.860'))\n",
      "if value error, Wrong orientation, skipping\n",
      "Bounding box (Decimal('0.0'), Decimal('-3.80900000000000016342482922482304275035858154296875'), Decimal('595.260'), Decimal('60.19500000000000028421709430404007434844970703125')) is not fully within parent page bounding box (Decimal('0.000'), Decimal('0.000'), Decimal('595.260'), Decimal('841.860'))\n",
      "if value error, Wrong orientation, skipping\n",
      "Bounding box (Decimal('0.0'), Decimal('-3.80900000000000016342482922482304275035858154296875'), Decimal('595.260'), Decimal('60.19500000000000028421709430404007434844970703125')) is not fully within parent page bounding box (Decimal('0.000'), Decimal('0.000'), Decimal('595.260'), Decimal('841.860'))\n",
      "if value error, Wrong orientation, skipping\n",
      "Bounding box (Decimal('0.0'), Decimal('-3.80900000000000016342482922482304275035858154296875'), Decimal('595.260'), Decimal('61.35499999999999687361196265555918216705322265625')) is not fully within parent page bounding box (Decimal('0.000'), Decimal('0.000'), Decimal('595.260'), Decimal('841.860'))\n",
      "if value error, Wrong orientation, skipping\n",
      "Bounding box (Decimal('0.0'), Decimal('-3.80900000000000016342482922482304275035858154296875'), Decimal('595.260'), Decimal('180.2350000000000136424205265939235687255859375')) is not fully within parent page bounding box (Decimal('0.000'), Decimal('0.000'), Decimal('595.260'), Decimal('841.860'))\n",
      "if value error, Wrong orientation, skipping\n",
      "Bounding box (Decimal('0.0'), Decimal('-3.80900000000000016342482922482304275035858154296875'), Decimal('595.260'), Decimal('60.19500000000000028421709430404007434844970703125')) is not fully within parent page bounding box (Decimal('0.000'), Decimal('0.000'), Decimal('595.260'), Decimal('841.860'))\n",
      "if value error, Wrong orientation, skipping\n",
      "Bounding box (Decimal('0.0'), Decimal('-3.80900000000000016342482922482304275035858154296875'), Decimal('595.260'), Decimal('61.35499999999999687361196265555918216705322265625')) is not fully within parent page bounding box (Decimal('0.000'), Decimal('0.000'), Decimal('595.260'), Decimal('841.860'))\n",
      "if value error, Wrong orientation, skipping\n",
      "Bounding box (Decimal('0.0'), Decimal('-3.80900000000000016342482922482304275035858154296875'), Decimal('595.260'), Decimal('60.19500000000000028421709430404007434844970703125')) is not fully within parent page bounding box (Decimal('0.000'), Decimal('0.000'), Decimal('595.260'), Decimal('841.860'))\n",
      "if value error, Wrong orientation, skipping\n",
      "Bounding box (Decimal('0.0'), Decimal('-3.80900000000000016342482922482304275035858154296875'), Decimal('595.260'), Decimal('61.35499999999999687361196265555918216705322265625')) is not fully within parent page bounding box (Decimal('0.000'), Decimal('0.000'), Decimal('595.260'), Decimal('841.860'))\n",
      "if value error, Wrong orientation, skipping\n",
      "Bounding box (Decimal('0.0'), Decimal('-3.80900000000000016342482922482304275035858154296875'), Decimal('595.260'), Decimal('61.35499999999999687361196265555918216705322265625')) is not fully within parent page bounding box (Decimal('0.000'), Decimal('0.000'), Decimal('595.260'), Decimal('841.860'))\n",
      "if value error, Wrong orientation, skipping\n",
      "Bounding box (Decimal('0.0'), Decimal('-3.80900000000000016342482922482304275035858154296875'), Decimal('595.260'), Decimal('61.35499999999999687361196265555918216705322265625')) is not fully within parent page bounding box (Decimal('0.000'), Decimal('0.000'), Decimal('595.260'), Decimal('841.860'))\n",
      "if value error, Wrong orientation, skipping\n",
      "Bounding box (Decimal('0.0'), Decimal('-3.80900000000000016342482922482304275035858154296875'), Decimal('595.260'), Decimal('61.35499999999999687361196265555918216705322265625')) is not fully within parent page bounding box (Decimal('0.000'), Decimal('0.000'), Decimal('595.260'), Decimal('841.860'))\n",
      "if value error, Wrong orientation, skipping\n",
      "Bounding box (Decimal('0.0'), Decimal('-3.80900000000000016342482922482304275035858154296875'), Decimal('595.260'), Decimal('64.125')) is not fully within parent page bounding box (Decimal('0.000'), Decimal('0.000'), Decimal('595.260'), Decimal('841.860'))\n",
      "if value error, Wrong orientation, skipping\n",
      "Bounding box (Decimal('0.0'), Decimal('-3.80900000000000016342482922482304275035858154296875'), Decimal('595.260'), Decimal('61.35499999999999687361196265555918216705322265625')) is not fully within parent page bounding box (Decimal('0.000'), Decimal('0.000'), Decimal('595.260'), Decimal('841.860'))\n",
      "if value error, Wrong orientation, skipping\n",
      "Bounding box (Decimal('0.0'), Decimal('-3.80900000000000016342482922482304275035858154296875'), Decimal('595.260'), Decimal('63.1749999999999971578290569595992565155029296875')) is not fully within parent page bounding box (Decimal('0.000'), Decimal('0.000'), Decimal('595.260'), Decimal('841.860'))\n",
      "if value error, Wrong orientation, skipping\n",
      "Bounding box (Decimal('0.0'), Decimal('-3.80900000000000016342482922482304275035858154296875'), Decimal('595.260'), Decimal('60.13499999999999801048033987171947956085205078125')) is not fully within parent page bounding box (Decimal('0.000'), Decimal('0.000'), Decimal('595.260'), Decimal('841.860'))\n",
      "if value error, Wrong orientation, skipping\n",
      "Bounding box (Decimal('0.0'), Decimal('-3.80900000000000016342482922482304275035858154296875'), Decimal('595.260'), Decimal('232.67500000000001136868377216160297393798828125')) is not fully within parent page bounding box (Decimal('0.000'), Decimal('0.000'), Decimal('595.260'), Decimal('841.860'))\n",
      "if value error, Wrong orientation, skipping\n",
      "Bounding box (Decimal('0.0'), Decimal('-3.80900000000000016342482922482304275035858154296875'), Decimal('595.260'), Decimal('61.35499999999999687361196265555918216705322265625')) is not fully within parent page bounding box (Decimal('0.000'), Decimal('0.000'), Decimal('595.260'), Decimal('841.860'))\n",
      "if value error, Wrong orientation, skipping\n"
     ]
    },
    {
     "name": "stdout",
     "output_type": "stream",
     "text": [
      "Bounding box (Decimal('0.0'), Decimal('-3.80900000000000016342482922482304275035858154296875'), Decimal('595.260'), Decimal('61.35499999999999687361196265555918216705322265625')) is not fully within parent page bounding box (Decimal('0.000'), Decimal('0.000'), Decimal('595.260'), Decimal('841.860'))\n",
      "if value error, Wrong orientation, skipping\n",
      "Bounding box (Decimal('0.0'), Decimal('-3.80900000000000016342482922482304275035858154296875'), Decimal('595.260'), Decimal('61.27499999999999857891452847979962825775146484375')) is not fully within parent page bounding box (Decimal('0.000'), Decimal('0.000'), Decimal('595.260'), Decimal('841.860'))\n",
      "if value error, Wrong orientation, skipping\n",
      "Bounding box (Decimal('0.0'), Decimal('-3.80900000000000016342482922482304275035858154296875'), Decimal('595.260'), Decimal('61.35499999999999687361196265555918216705322265625')) is not fully within parent page bounding box (Decimal('0.000'), Decimal('0.000'), Decimal('595.260'), Decimal('841.860'))\n",
      "if value error, Wrong orientation, skipping\n",
      "Bounding box (Decimal('0.0'), Decimal('-3.80900000000000016342482922482304275035858154296875'), Decimal('595.260'), Decimal('61.35499999999999687361196265555918216705322265625')) is not fully within parent page bounding box (Decimal('0.000'), Decimal('0.000'), Decimal('595.260'), Decimal('841.860'))\n",
      "if value error, Wrong orientation, skipping\n",
      "Bounding box (Decimal('0.0'), Decimal('-3.80900000000000016342482922482304275035858154296875'), Decimal('595.260'), Decimal('66.7549999999999954525264911353588104248046875')) is not fully within parent page bounding box (Decimal('0.000'), Decimal('0.000'), Decimal('595.260'), Decimal('841.860'))\n",
      "if value error, Wrong orientation, skipping\n",
      "Bounding box (Decimal('0.0'), Decimal('-3.80900000000000016342482922482304275035858154296875'), Decimal('595.260'), Decimal('57.3250000000000028421709430404007434844970703125')) is not fully within parent page bounding box (Decimal('0.000'), Decimal('0.000'), Decimal('595.260'), Decimal('841.860'))\n",
      "if value error, Wrong orientation, skipping\n",
      "Bounding box (Decimal('0.0'), Decimal('-3.80900000000000016342482922482304275035858154296875'), Decimal('595.260'), Decimal('57.3250000000000028421709430404007434844970703125')) is not fully within parent page bounding box (Decimal('0.000'), Decimal('0.000'), Decimal('595.260'), Decimal('841.860'))\n",
      "if value error, Wrong orientation, skipping\n",
      "Bounding box (Decimal('0.0'), Decimal('-3.80900000000000016342482922482304275035858154296875'), Decimal('595.260'), Decimal('61.35499999999999687361196265555918216705322265625')) is not fully within parent page bounding box (Decimal('0.000'), Decimal('0.000'), Decimal('595.260'), Decimal('841.860'))\n",
      "if value error, Wrong orientation, skipping\n",
      "Bounding box (Decimal('0.0'), Decimal('-3.80900000000000016342482922482304275035858154296875'), Decimal('595.260'), Decimal('61.35499999999999687361196265555918216705322265625')) is not fully within parent page bounding box (Decimal('0.000'), Decimal('0.000'), Decimal('595.260'), Decimal('841.860'))\n",
      "if value error, Wrong orientation, skipping\n",
      "Bounding box (Decimal('0.0'), Decimal('-3.80900000000000016342482922482304275035858154296875'), Decimal('595.260'), Decimal('61.35499999999999687361196265555918216705322265625')) is not fully within parent page bounding box (Decimal('0.000'), Decimal('0.000'), Decimal('595.260'), Decimal('841.860'))\n",
      "if value error, Wrong orientation, skipping\n",
      "Bounding box (Decimal('0.0'), Decimal('-3.80900000000000016342482922482304275035858154296875'), Decimal('595.260'), Decimal('61.35499999999999687361196265555918216705322265625')) is not fully within parent page bounding box (Decimal('0.000'), Decimal('0.000'), Decimal('595.260'), Decimal('841.860'))\n",
      "if value error, Wrong orientation, skipping\n",
      "Bounding box (Decimal('0.0'), Decimal('-3.80900000000000016342482922482304275035858154296875'), Decimal('595.260'), Decimal('61.35499999999999687361196265555918216705322265625')) is not fully within parent page bounding box (Decimal('0.000'), Decimal('0.000'), Decimal('595.260'), Decimal('841.860'))\n",
      "if value error, Wrong orientation, skipping\n"
     ]
    },
    {
     "data": {
      "application/vnd.jupyter.widget-view+json": {
       "model_id": "873753d549944cb0ad052e2a8fff1256",
       "version_major": 2,
       "version_minor": 0
      },
      "text/plain": [
       "  0%|          | 0/434 [00:00<?, ?it/s]"
      ]
     },
     "metadata": {},
     "output_type": "display_data"
    },
    {
     "data": {
      "application/vnd.jupyter.widget-view+json": {
       "model_id": "a0290f7c62624b30b73045472da3e0d9",
       "version_major": 2,
       "version_minor": 0
      },
      "text/plain": [
       "  0%|          | 0/301 [00:00<?, ?it/s]"
      ]
     },
     "metadata": {},
     "output_type": "display_data"
    },
    {
     "data": {
      "application/vnd.jupyter.widget-view+json": {
       "model_id": "c5eba399a6a24a25b8fbfb41b408ad0e",
       "version_major": 2,
       "version_minor": 0
      },
      "text/plain": [
       "  0%|          | 0/505 [00:00<?, ?it/s]"
      ]
     },
     "metadata": {},
     "output_type": "display_data"
    },
    {
     "data": {
      "application/vnd.jupyter.widget-view+json": {
       "model_id": "dc4f2a3eb0b4473c850a8b6a2cbef105",
       "version_major": 2,
       "version_minor": 0
      },
      "text/plain": [
       "  0%|          | 0/192 [00:00<?, ?it/s]"
      ]
     },
     "metadata": {},
     "output_type": "display_data"
    },
    {
     "data": {
      "application/vnd.jupyter.widget-view+json": {
       "model_id": "2a34960f5ac7410bb787724d87febae4",
       "version_major": 2,
       "version_minor": 0
      },
      "text/plain": [
       "  0%|          | 0/373 [00:00<?, ?it/s]"
      ]
     },
     "metadata": {},
     "output_type": "display_data"
    },
    {
     "data": {
      "application/vnd.jupyter.widget-view+json": {
       "model_id": "6dd79076d75d417baa62744d21a68357",
       "version_major": 2,
       "version_minor": 0
      },
      "text/plain": [
       "  0%|          | 0/432 [00:00<?, ?it/s]"
      ]
     },
     "metadata": {},
     "output_type": "display_data"
    },
    {
     "data": {
      "application/vnd.jupyter.widget-view+json": {
       "model_id": "05fa78202f8e4471b621460fc3a4d5d2",
       "version_major": 2,
       "version_minor": 0
      },
      "text/plain": [
       "  0%|          | 0/768 [00:00<?, ?it/s]"
      ]
     },
     "metadata": {},
     "output_type": "display_data"
    },
    {
     "data": {
      "application/vnd.jupyter.widget-view+json": {
       "model_id": "97637bcf3eaf420da9accded3ada2163",
       "version_major": 2,
       "version_minor": 0
      },
      "text/plain": [
       "  0%|          | 0/133 [00:00<?, ?it/s]"
      ]
     },
     "metadata": {},
     "output_type": "display_data"
    },
    {
     "data": {
      "application/vnd.jupyter.widget-view+json": {
       "model_id": "b5ac580902804b3d932690e4af60b017",
       "version_major": 2,
       "version_minor": 0
      },
      "text/plain": [
       "  0%|          | 0/298 [00:00<?, ?it/s]"
      ]
     },
     "metadata": {},
     "output_type": "display_data"
    },
    {
     "name": "stdout",
     "output_type": "stream",
     "text": [
      "Bounding box (Decimal('0.0'), Decimal('-36.695999999999997953636921010911464691162109375'), Decimal('595.276'), Decimal('831.8899999999999863575794734060764312744140625')) is not fully within parent page bounding box (Decimal('0.000'), Decimal('0.000'), Decimal('595.276'), Decimal('841.890'))\n",
      "if value error, Wrong orientation, skipping\n",
      "Bounding box (Decimal('0.0'), Decimal('-36.71399999999999863575794734060764312744140625'), Decimal('595.276'), Decimal('831.8899999999999863575794734060764312744140625')) is not fully within parent page bounding box (Decimal('0.000'), Decimal('0.000'), Decimal('595.276'), Decimal('841.890'))\n",
      "if value error, Wrong orientation, skipping\n",
      "Bounding box (Decimal('0.0'), Decimal('-36.71399999999999863575794734060764312744140625'), Decimal('595.276'), Decimal('831.8899999999999863575794734060764312744140625')) is not fully within parent page bounding box (Decimal('0.000'), Decimal('0.000'), Decimal('595.276'), Decimal('841.890'))\n",
      "if value error, Wrong orientation, skipping\n",
      "Bounding box (Decimal('0.0'), Decimal('-36.71399999999999863575794734060764312744140625'), Decimal('595.276'), Decimal('831.8899999999999863575794734060764312744140625')) is not fully within parent page bounding box (Decimal('0.000'), Decimal('0.000'), Decimal('595.276'), Decimal('841.890'))\n",
      "if value error, Wrong orientation, skipping\n",
      "Bounding box (Decimal('0.0'), Decimal('-36.71399999999999863575794734060764312744140625'), Decimal('595.276'), Decimal('831.8899999999999863575794734060764312744140625')) is not fully within parent page bounding box (Decimal('0.000'), Decimal('0.000'), Decimal('595.276'), Decimal('841.890'))\n",
      "if value error, Wrong orientation, skipping\n",
      "Bounding box (Decimal('0.0'), Decimal('-36.71399999999999863575794734060764312744140625'), Decimal('595.276'), Decimal('831.8899999999999863575794734060764312744140625')) is not fully within parent page bounding box (Decimal('0.000'), Decimal('0.000'), Decimal('595.276'), Decimal('841.890'))\n",
      "if value error, Wrong orientation, skipping\n"
     ]
    },
    {
     "data": {
      "application/vnd.jupyter.widget-view+json": {
       "model_id": "7f64f7b894224578bfb869a62ae7b5bb",
       "version_major": 2,
       "version_minor": 0
      },
      "text/plain": [
       "  0%|          | 0/154 [00:00<?, ?it/s]"
      ]
     },
     "metadata": {},
     "output_type": "display_data"
    }
   ],
   "source": [
    "for source_pdf_path in file_paths:\n",
    "    result_df = extract_parallel_text(source_pdf_path, CONFIG.bahasa)\n",
    "    gc.collect()"
   ]
  },
  {
   "cell_type": "code",
   "execution_count": null,
   "metadata": {},
   "outputs": [],
   "source": []
  },
  {
   "cell_type": "code",
   "execution_count": null,
   "metadata": {},
   "outputs": [],
   "source": []
  }
 ],
 "metadata": {
  "colab": {
   "collapsed_sections": [],
   "name": "pdf_text_extraction_fast.ipynb",
   "provenance": []
  },
  "kernelspec": {
   "display_name": "Python 3 (ipykernel)",
   "language": "python",
   "name": "python3"
  },
  "language_info": {
   "codemirror_mode": {
    "name": "ipython",
    "version": 3
   },
   "file_extension": ".py",
   "mimetype": "text/x-python",
   "name": "python",
   "nbconvert_exporter": "python",
   "pygments_lexer": "ipython3",
   "version": "3.7.4"
  },
  "varInspector": {
   "cols": {
    "lenName": 16,
    "lenType": 16,
    "lenVar": 40
   },
   "kernels_config": {
    "python": {
     "delete_cmd_postfix": "",
     "delete_cmd_prefix": "del ",
     "library": "var_list.py",
     "varRefreshCmd": "print(var_dic_list())"
    },
    "r": {
     "delete_cmd_postfix": ") ",
     "delete_cmd_prefix": "rm(",
     "library": "var_list.r",
     "varRefreshCmd": "cat(var_dic_list()) "
    }
   },
   "types_to_exclude": [
    "module",
    "function",
    "builtin_function_or_method",
    "instance",
    "_Feature"
   ],
   "window_display": false
  }
 },
 "nbformat": 4,
 "nbformat_minor": 1
}
